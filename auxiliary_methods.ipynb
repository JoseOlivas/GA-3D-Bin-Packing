{
 "cells": [
  {
   "cell_type": "code",
   "execution_count": 12,
   "metadata": {},
   "outputs": [
    {
     "ename": "ModuleNotFoundError",
     "evalue": "No module named 'nbformat'",
     "output_type": "error",
     "traceback": [
      "\u001b[1;31m---------------------------------------------------------------------------\u001b[0m",
      "\u001b[1;31mModuleNotFoundError\u001b[0m                       Traceback (most recent call last)",
      "Cell \u001b[1;32mIn [12], line 2\u001b[0m\n\u001b[0;32m      1\u001b[0m \u001b[39mfrom\u001b[39;00m \u001b[39mdecimal\u001b[39;00m \u001b[39mimport\u001b[39;00m Decimal\n\u001b[1;32m----> 2\u001b[0m get_ipython()\u001b[39m.\u001b[39;49mrun_line_magic(\u001b[39m'\u001b[39;49m\u001b[39mrun\u001b[39;49m\u001b[39m'\u001b[39;49m, \u001b[39m'\u001b[39;49m\u001b[39m./constants.ipynb\u001b[39;49m\u001b[39m'\u001b[39;49m)\n",
      "File \u001b[1;32m~\\AppData\\Local\\Packages\\PythonSoftwareFoundation.Python.3.9_qbz5n2kfra8p0\\LocalCache\\local-packages\\Python39\\site-packages\\IPython\\core\\interactiveshell.py:2309\u001b[0m, in \u001b[0;36mInteractiveShell.run_line_magic\u001b[1;34m(self, magic_name, line, _stack_depth)\u001b[0m\n\u001b[0;32m   2307\u001b[0m     kwargs[\u001b[39m'\u001b[39m\u001b[39mlocal_ns\u001b[39m\u001b[39m'\u001b[39m] \u001b[39m=\u001b[39m \u001b[39mself\u001b[39m\u001b[39m.\u001b[39mget_local_scope(stack_depth)\n\u001b[0;32m   2308\u001b[0m \u001b[39mwith\u001b[39;00m \u001b[39mself\u001b[39m\u001b[39m.\u001b[39mbuiltin_trap:\n\u001b[1;32m-> 2309\u001b[0m     result \u001b[39m=\u001b[39m fn(\u001b[39m*\u001b[39margs, \u001b[39m*\u001b[39m\u001b[39m*\u001b[39mkwargs)\n\u001b[0;32m   2310\u001b[0m \u001b[39mreturn\u001b[39;00m result\n",
      "File \u001b[1;32m~\\AppData\\Local\\Packages\\PythonSoftwareFoundation.Python.3.9_qbz5n2kfra8p0\\LocalCache\\local-packages\\Python39\\site-packages\\IPython\\core\\magics\\execution.py:717\u001b[0m, in \u001b[0;36mExecutionMagics.run\u001b[1;34m(self, parameter_s, runner, file_finder)\u001b[0m\n\u001b[0;32m    715\u001b[0m     \u001b[39mwith\u001b[39;00m preserve_keys(\u001b[39mself\u001b[39m\u001b[39m.\u001b[39mshell\u001b[39m.\u001b[39muser_ns, \u001b[39m'\u001b[39m\u001b[39m__file__\u001b[39m\u001b[39m'\u001b[39m):\n\u001b[0;32m    716\u001b[0m         \u001b[39mself\u001b[39m\u001b[39m.\u001b[39mshell\u001b[39m.\u001b[39muser_ns[\u001b[39m'\u001b[39m\u001b[39m__file__\u001b[39m\u001b[39m'\u001b[39m] \u001b[39m=\u001b[39m filename\n\u001b[1;32m--> 717\u001b[0m         \u001b[39mself\u001b[39;49m\u001b[39m.\u001b[39;49mshell\u001b[39m.\u001b[39;49msafe_execfile_ipy(filename, raise_exceptions\u001b[39m=\u001b[39;49m\u001b[39mTrue\u001b[39;49;00m)\n\u001b[0;32m    718\u001b[0m     \u001b[39mreturn\u001b[39;00m\n\u001b[0;32m    720\u001b[0m \u001b[39m# Control the response to exit() calls made by the script being run\u001b[39;00m\n",
      "File \u001b[1;32m~\\AppData\\Local\\Packages\\PythonSoftwareFoundation.Python.3.9_qbz5n2kfra8p0\\LocalCache\\local-packages\\Python39\\site-packages\\IPython\\core\\interactiveshell.py:2812\u001b[0m, in \u001b[0;36mInteractiveShell.safe_execfile_ipy\u001b[1;34m(self, fname, shell_futures, raise_exceptions)\u001b[0m\n\u001b[0;32m   2810\u001b[0m \u001b[39mwith\u001b[39;00m prepended_to_syspath(dname):\n\u001b[0;32m   2811\u001b[0m     \u001b[39mtry\u001b[39;00m:\n\u001b[1;32m-> 2812\u001b[0m         \u001b[39mfor\u001b[39;00m cell \u001b[39min\u001b[39;00m get_cells():\n\u001b[0;32m   2813\u001b[0m             result \u001b[39m=\u001b[39m \u001b[39mself\u001b[39m\u001b[39m.\u001b[39mrun_cell(cell, silent\u001b[39m=\u001b[39m\u001b[39mTrue\u001b[39;00m, shell_futures\u001b[39m=\u001b[39mshell_futures)\n\u001b[0;32m   2814\u001b[0m             \u001b[39mif\u001b[39;00m raise_exceptions:\n",
      "File \u001b[1;32m~\\AppData\\Local\\Packages\\PythonSoftwareFoundation.Python.3.9_qbz5n2kfra8p0\\LocalCache\\local-packages\\Python39\\site-packages\\IPython\\core\\interactiveshell.py:2800\u001b[0m, in \u001b[0;36mInteractiveShell.safe_execfile_ipy.<locals>.get_cells\u001b[1;34m()\u001b[0m\n\u001b[0;32m   2798\u001b[0m \u001b[39m\"\"\"generator for sequence of code blocks to run\"\"\"\u001b[39;00m\n\u001b[0;32m   2799\u001b[0m \u001b[39mif\u001b[39;00m fname\u001b[39m.\u001b[39msuffix \u001b[39m==\u001b[39m \u001b[39m\"\u001b[39m\u001b[39m.ipynb\u001b[39m\u001b[39m\"\u001b[39m:\n\u001b[1;32m-> 2800\u001b[0m     \u001b[39mfrom\u001b[39;00m \u001b[39mnbformat\u001b[39;00m \u001b[39mimport\u001b[39;00m read\n\u001b[0;32m   2801\u001b[0m     nb \u001b[39m=\u001b[39m read(fname, as_version\u001b[39m=\u001b[39m\u001b[39m4\u001b[39m)\n\u001b[0;32m   2802\u001b[0m     \u001b[39mif\u001b[39;00m \u001b[39mnot\u001b[39;00m nb\u001b[39m.\u001b[39mcells:\n",
      "\u001b[1;31mModuleNotFoundError\u001b[0m: No module named 'nbformat'"
     ]
    }
   ],
   "source": [
    "from decimal import Decimal\n",
    "%run ./constants.ipynb"
   ]
  },
  {
   "cell_type": "code",
   "execution_count": null,
   "metadata": {},
   "outputs": [],
   "source": [
    "DEFAULT_NUMBER_OF_DECIMALS = 3\n",
    "START_POSITION = [0, 0, 0]"
   ]
  },
  {
   "cell_type": "code",
   "execution_count": null,
   "metadata": {},
   "outputs": [],
   "source": [
    "def get_limit_number_of_decimals(number_of_decimals):\n",
    "    return Decimal('1.{}'.format('0' * number_of_decimals))"
   ]
  },
  {
   "cell_type": "code",
   "execution_count": null,
   "metadata": {},
   "outputs": [],
   "source": [
    "def set_to_decimal(value, number_of_decimals):\n",
    "    number_of_decimals = get_limit_number_of_decimals(number_of_decimals)\n",
    "\n",
    "    return Decimal(value).quantize(number_of_decimals)"
   ]
  },
  {
   "cell_type": "code",
   "execution_count": null,
   "metadata": {},
   "outputs": [],
   "source": [
    "def rect_intersect(item1, item2, x, y):\n",
    "    \"\"\"Estimate whether two items get intersection in one dimension.\n",
    "    Args:\n",
    "        item1, item2: any two items in item list.\n",
    "        x,y: Axis.LENGTH/ Axis.Height/ Axis.WIDTH.\n",
    "    Returns:\n",
    "        Boolean variable: False when two items get intersection in one dimension; True when two items do not intersect in one dimension.\n",
    "    \"\"\"\n",
    "    \n",
    "    d1 = item1.get_dimension() \n",
    "    d2 = item2.get_dimension() \n",
    "    \n",
    "    cx1 = item1.position[x] + d1[x]/2 \n",
    "    cy1 = item1.position[y] + d1[y]/2\n",
    "    cx2 = item2.position[x] + d2[x]/2 \n",
    "    cy2 = item2.position[y] + d2[y]/2\n",
    "    \n",
    "    ix = max(cx1, cx2) - min(cx1, cx2) # ix: |cx1-cx2|\n",
    "    iy = max(cy1, cy2) - min(cy1, cy2) # iy: |cy1-cy2|\n",
    "    \n",
    "    return ix < (d1[x] + d2[x])/2 and iy < (d1[y] + d2[y])/2 "
   ]
  },
  {
   "cell_type": "code",
   "execution_count": null,
   "metadata": {},
   "outputs": [],
   "source": [
    "def intersect(item1, item2):\n",
    "    \"\"\"Estimate whether two items get intersection in 3D dimension.\n",
    "    Args:\n",
    "        item1, item2: any two items in item list.\n",
    "    Returns:\n",
    "        Boolean variable: False when two items get intersection; True when two items do not intersect.\n",
    "    \"\"\"\n",
    "    \n",
    "    return ( \n",
    "    rect_intersect(item1, item2, Axis.LENGTH, Axis.HEIGHT) and # xz dimension\n",
    "    rect_intersect(item1, item2, Axis.HEIGHT, Axis.WIDTH) and # yz dimension\n",
    "    rect_intersect(item1, item2, Axis.LENGTH, Axis.WIDTH)) # xy dimension"
   ]
  },
  {
   "cell_type": "code",
   "execution_count": null,
   "metadata": {},
   "outputs": [],
   "source": [
    "def stack(item1, item2):\n",
    "    \"\"\"Stack two items with same length, width, height or any two of three sides are same.\n",
    "    Args:\n",
    "        item1, item2: any two items in item list.\n",
    "    Return:\n",
    "        item1/ stacked_item_list/ stacked_item.\n",
    "    \"\"\"\n",
    "    \n",
    "    if (\n",
    "        item1.length == item2.length and\n",
    "        item1.width == item2.width and\n",
    "        item1.height == item2.height\n",
    "    ):\n",
    "        stacked_item_1 = Item(item1.name + item2.name, item1.length + item2.length, \n",
    "                              item1.width, item1.height, item1.weight + item2.weight) #(2l, w, h)\n",
    "        stacked_item_2 = Item(item1.name + item2.name, item1.length, item1.width + item2.width, \n",
    "                              item1.height, item1.weight + item2.weight) #(l, 2w, h)\n",
    "        stacked_item_3 = Item(item1.name + item2.name, item1.length, item1.width, \n",
    "                              item1.height + item2.height, item1.weight + item2.weight) #(l, w, 2h)\n",
    "        \n",
    "        stacked_item_list = [stacked_item_1, stacked_item_2, stacked_item_3]\n",
    "        \n",
    "        return stacked_item_list\n",
    "        \n",
    "    elif ( \n",
    "        item1.length == item2.length and\n",
    "        item1.width == item2.width and\n",
    "        item1.height != item2.height\n",
    "    ):\n",
    "        stacked_item = Item(item1.name + item2.name, item1.length, item1.width, \n",
    "                            item1.height + item2.height, item1.weight + item2.weight) #(l, w, 2h)\n",
    "        \n",
    "        return stacked_item\n",
    "    \n",
    "    elif (\n",
    "        item1.length == item2.length and \n",
    "        item1.height == item2.height and\n",
    "        item1.width != item2.width\n",
    "    ):\n",
    "        stacked_item = Item(item1.name + item2.name, item1.length, item1.width + item2.width, \n",
    "                            item1.height, item1.weight + item2.weight) #(l, 2w, h)\n",
    "        \n",
    "        return stacked_item\n",
    "    \n",
    "    elif (\n",
    "        item1.width == item2.width and\n",
    "        item1.height == item2.height and\n",
    "        item1.length != item2.length\n",
    "    ):\n",
    "        stacked_item = Item(item1.name + item2.name, item1.length + item2.length, \n",
    "                            item1.width, item1.height, item1.weight + item2.weight)\n",
    "        \n",
    "        return stacked_item #(2l, w, h)\n",
    "    \n",
    "    else:\n",
    "        return item1"
   ]
  }
 ],
 "metadata": {
  "kernelspec": {
   "display_name": "Python 3.9.13 64-bit (microsoft store)",
   "language": "python",
   "name": "python3"
  },
  "language_info": {
   "codemirror_mode": {
    "name": "ipython",
    "version": 3
   },
   "file_extension": ".py",
   "mimetype": "text/x-python",
   "name": "python",
   "nbconvert_exporter": "python",
   "pygments_lexer": "ipython3",
   "version": "3.9.13"
  },
  "vscode": {
   "interpreter": {
    "hash": "caec20e85e581a6183018a9d1137370badbc446b458a9ff4a5517f9e1cef54cb"
   }
  }
 },
 "nbformat": 4,
 "nbformat_minor": 4
}
